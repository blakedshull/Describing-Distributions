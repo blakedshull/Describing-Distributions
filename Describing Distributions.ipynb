{
 "cells": [
  {
   "cell_type": "code",
   "execution_count": 5,
   "id": "9cbe08de",
   "metadata": {},
   "outputs": [],
   "source": [
    "import pandas as pd\n",
    "import numpy as np\n",
    "import matplotlib.pyplot as plt\n",
    "import matplotlib as mpl\n",
    "import seaborn as sns"
   ]
  },
  {
   "cell_type": "code",
   "execution_count": 3,
   "id": "c916aab6",
   "metadata": {},
   "outputs": [],
   "source": [
    "df = pd.read_csv(\"Data/data (2).csv\", low_memory=False)"
   ]
  },
  {
   "cell_type": "code",
   "execution_count": 4,
   "id": "31f40f74",
   "metadata": {},
   "outputs": [
    {
     "data": {
      "text/html": [
       "<div>\n",
       "<style scoped>\n",
       "    .dataframe tbody tr th:only-of-type {\n",
       "        vertical-align: middle;\n",
       "    }\n",
       "\n",
       "    .dataframe tbody tr th {\n",
       "        vertical-align: top;\n",
       "    }\n",
       "\n",
       "    .dataframe thead th {\n",
       "        text-align: right;\n",
       "    }\n",
       "</style>\n",
       "<table border=\"1\" class=\"dataframe\">\n",
       "  <thead>\n",
       "    <tr style=\"text-align: right;\">\n",
       "      <th></th>\n",
       "      <th>State</th>\n",
       "      <th>Lat</th>\n",
       "      <th>Lng</th>\n",
       "      <th>Area</th>\n",
       "      <th>Children</th>\n",
       "      <th>Age</th>\n",
       "      <th>Income</th>\n",
       "      <th>Marital</th>\n",
       "      <th>Gender</th>\n",
       "      <th>ReAdmis</th>\n",
       "      <th>...</th>\n",
       "      <th>Hyperlipidemia</th>\n",
       "      <th>BackPain</th>\n",
       "      <th>Anxiety</th>\n",
       "      <th>Allergic_rhinitis</th>\n",
       "      <th>Reflux_esophagitis</th>\n",
       "      <th>Asthma</th>\n",
       "      <th>Services</th>\n",
       "      <th>Initial_days</th>\n",
       "      <th>TotalCharge</th>\n",
       "      <th>Additional_charges</th>\n",
       "    </tr>\n",
       "  </thead>\n",
       "  <tbody>\n",
       "    <tr>\n",
       "      <th>0</th>\n",
       "      <td>AL</td>\n",
       "      <td>34.34960</td>\n",
       "      <td>-86.72508</td>\n",
       "      <td>Suburban</td>\n",
       "      <td>1.0</td>\n",
       "      <td>53</td>\n",
       "      <td>86575.93</td>\n",
       "      <td>Divorced</td>\n",
       "      <td>Male</td>\n",
       "      <td>0</td>\n",
       "      <td>...</td>\n",
       "      <td>0.0</td>\n",
       "      <td>1.0</td>\n",
       "      <td>1.0</td>\n",
       "      <td>1.0</td>\n",
       "      <td>0</td>\n",
       "      <td>1</td>\n",
       "      <td>Blood Work</td>\n",
       "      <td>10.585770</td>\n",
       "      <td>3726.702860</td>\n",
       "      <td>17939.403420</td>\n",
       "    </tr>\n",
       "    <tr>\n",
       "      <th>1</th>\n",
       "      <td>FL</td>\n",
       "      <td>30.84513</td>\n",
       "      <td>-85.22907</td>\n",
       "      <td>Urban</td>\n",
       "      <td>3.0</td>\n",
       "      <td>51</td>\n",
       "      <td>46805.99</td>\n",
       "      <td>Married</td>\n",
       "      <td>Female</td>\n",
       "      <td>0</td>\n",
       "      <td>...</td>\n",
       "      <td>0.0</td>\n",
       "      <td>0.0</td>\n",
       "      <td>0.0</td>\n",
       "      <td>0.0</td>\n",
       "      <td>1</td>\n",
       "      <td>0</td>\n",
       "      <td>Intravenous</td>\n",
       "      <td>15.129562</td>\n",
       "      <td>4193.190458</td>\n",
       "      <td>17612.998120</td>\n",
       "    </tr>\n",
       "    <tr>\n",
       "      <th>2</th>\n",
       "      <td>SD</td>\n",
       "      <td>43.54321</td>\n",
       "      <td>-96.63772</td>\n",
       "      <td>Suburban</td>\n",
       "      <td>3.0</td>\n",
       "      <td>53</td>\n",
       "      <td>14370.14</td>\n",
       "      <td>Widowed</td>\n",
       "      <td>Female</td>\n",
       "      <td>0</td>\n",
       "      <td>...</td>\n",
       "      <td>0.0</td>\n",
       "      <td>0.0</td>\n",
       "      <td>0.0</td>\n",
       "      <td>0.0</td>\n",
       "      <td>0</td>\n",
       "      <td>0</td>\n",
       "      <td>Blood Work</td>\n",
       "      <td>4.772177</td>\n",
       "      <td>2434.234222</td>\n",
       "      <td>17505.192460</td>\n",
       "    </tr>\n",
       "    <tr>\n",
       "      <th>3</th>\n",
       "      <td>MN</td>\n",
       "      <td>43.89744</td>\n",
       "      <td>-93.51479</td>\n",
       "      <td>Suburban</td>\n",
       "      <td>0.0</td>\n",
       "      <td>78</td>\n",
       "      <td>39741.49</td>\n",
       "      <td>Married</td>\n",
       "      <td>Male</td>\n",
       "      <td>0</td>\n",
       "      <td>...</td>\n",
       "      <td>0.0</td>\n",
       "      <td>0.0</td>\n",
       "      <td>0.0</td>\n",
       "      <td>0.0</td>\n",
       "      <td>1</td>\n",
       "      <td>1</td>\n",
       "      <td>Blood Work</td>\n",
       "      <td>1.714879</td>\n",
       "      <td>2127.830423</td>\n",
       "      <td>12993.437350</td>\n",
       "    </tr>\n",
       "    <tr>\n",
       "      <th>4</th>\n",
       "      <td>VA</td>\n",
       "      <td>37.59894</td>\n",
       "      <td>-76.88958</td>\n",
       "      <td>Rural</td>\n",
       "      <td>1.0</td>\n",
       "      <td>22</td>\n",
       "      <td>1209.56</td>\n",
       "      <td>Widowed</td>\n",
       "      <td>Female</td>\n",
       "      <td>0</td>\n",
       "      <td>...</td>\n",
       "      <td>1.0</td>\n",
       "      <td>0.0</td>\n",
       "      <td>0.0</td>\n",
       "      <td>1.0</td>\n",
       "      <td>0</td>\n",
       "      <td>0</td>\n",
       "      <td>CT Scan</td>\n",
       "      <td>1.254807</td>\n",
       "      <td>2113.073274</td>\n",
       "      <td>3716.525786</td>\n",
       "    </tr>\n",
       "  </tbody>\n",
       "</table>\n",
       "<p>5 rows × 32 columns</p>\n",
       "</div>"
      ],
      "text/plain": [
       "  State       Lat       Lng      Area  Children  Age    Income   Marital  \\\n",
       "0    AL  34.34960 -86.72508  Suburban       1.0   53  86575.93  Divorced   \n",
       "1    FL  30.84513 -85.22907     Urban       3.0   51  46805.99   Married   \n",
       "2    SD  43.54321 -96.63772  Suburban       3.0   53  14370.14   Widowed   \n",
       "3    MN  43.89744 -93.51479  Suburban       0.0   78  39741.49   Married   \n",
       "4    VA  37.59894 -76.88958     Rural       1.0   22   1209.56   Widowed   \n",
       "\n",
       "   Gender  ReAdmis  ...  Hyperlipidemia  BackPain  Anxiety  Allergic_rhinitis  \\\n",
       "0    Male        0  ...             0.0       1.0      1.0                1.0   \n",
       "1  Female        0  ...             0.0       0.0      0.0                0.0   \n",
       "2  Female        0  ...             0.0       0.0      0.0                0.0   \n",
       "3    Male        0  ...             0.0       0.0      0.0                0.0   \n",
       "4  Female        0  ...             1.0       0.0      0.0                1.0   \n",
       "\n",
       "   Reflux_esophagitis Asthma     Services  Initial_days  TotalCharge  \\\n",
       "0                   0      1   Blood Work     10.585770  3726.702860   \n",
       "1                   1      0  Intravenous     15.129562  4193.190458   \n",
       "2                   0      0   Blood Work      4.772177  2434.234222   \n",
       "3                   1      1   Blood Work      1.714879  2127.830423   \n",
       "4                   0      0      CT Scan      1.254807  2113.073274   \n",
       "\n",
       "   Additional_charges  \n",
       "0        17939.403420  \n",
       "1        17612.998120  \n",
       "2        17505.192460  \n",
       "3        12993.437350  \n",
       "4         3716.525786  \n",
       "\n",
       "[5 rows x 32 columns]"
      ]
     },
     "execution_count": 4,
     "metadata": {},
     "output_type": "execute_result"
    }
   ],
   "source": [
    "df.head()"
   ]
  },
  {
   "cell_type": "markdown",
   "id": "1ef41743",
   "metadata": {},
   "source": [
    "## The features to analyze: \n",
    "\n",
    "VitD_levels\n",
    "\n",
    "Doc_visits\n",
    "\n",
    "TotalCharge"
   ]
  },
  {
   "cell_type": "markdown",
   "id": "4b7d3f1b",
   "metadata": {},
   "source": [
    "### VitD_levels\n",
    "Plot a histogram with a kde (kernel density estimate)\n",
    "\n",
    "Add a line for the mean (red)\n",
    "\n",
    "Add a line for the median (green)\n",
    "\n",
    "Add a line for for +1 std from the mean (black)\n",
    "\n",
    "Add a line for the - 1 std from the mean (black)\n",
    "\n",
    "Highlight the range between +1 and =1 std (yellow)"
   ]
  },
  {
   "cell_type": "markdown",
   "id": "9d02835b",
   "metadata": {},
   "source": [
    "#### Graphing"
   ]
  },
  {
   "cell_type": "code",
   "execution_count": 23,
   "id": "1a155776",
   "metadata": {},
   "outputs": [],
   "source": [
    "mean = df['VitD_levels'].mean()\n",
    "median = df['VitD_levels'].median()\n",
    "std = df['VitD_levels'].std()\n",
    "plus_one_std = mean + std\n",
    "minus_one_std = mean - std"
   ]
  },
  {
   "cell_type": "code",
   "execution_count": 8,
   "id": "ae93dd91",
   "metadata": {},
   "outputs": [
    {
     "data": {
      "text/plain": [
       "count    1000.000000\n",
       "mean       17.992381\n",
       "std         2.056366\n",
       "min        11.475314\n",
       "25%        16.620469\n",
       "50%        18.020163\n",
       "75%        19.418254\n",
       "max        24.565463\n",
       "Name: VitD_levels, dtype: float64"
      ]
     },
     "execution_count": 8,
     "metadata": {},
     "output_type": "execute_result"
    }
   ],
   "source": [
    "df['VitD_levels'].describe()"
   ]
  },
  {
   "cell_type": "code",
   "execution_count": 28,
   "id": "6b7108a5",
   "metadata": {
    "scrolled": false
   },
   "outputs": [
    {
     "data": {
      "text/plain": [
       "<matplotlib.patches.Polygon at 0x25784511490>"
      ]
     },
     "execution_count": 28,
     "metadata": {},
     "output_type": "execute_result"
    },
    {
     "data": {
      "image/png": "[encoded data removed]",
      "text/plain": [
       "<Figure size 600x300 with 1 Axes>"
      ]
     },
     "metadata": {},
     "output_type": "display_data"
    }
   ],
   "source": [
    "fig,ax = plt.subplots(figsize=(6,3))\n",
    "sns.histplot(df['VitD_levels'], \n",
    "             ax = ax, \n",
    "             stat='probability')\n",
    "# Add a line for the mean (red)\n",
    "ax.axvline(mean, color = 'red');\n",
    "# Add a line for the median (green)\n",
    "ax.axvline(median,color = 'green');\n",
    "# Add a line for for +1 std from the mean (black)\n",
    "ax.axvline(plus_one_std, color = 'black');\n",
    "# Add a line for the - 1 std from the mean (black)\n",
    "ax.axvline(minus_one_std, color = 'black');\n",
    "# Highlight the range between +1 and =1 std (yellow)\n",
    "ax.axvspan(plus_one_std, minus_one_std, color = 'yellow', zorder = 0)"
   ]
  },
  {
   "cell_type": "code",
   "execution_count": 37,
   "id": "1b723cb5",
   "metadata": {},
   "outputs": [
    {
     "name": "stdout",
     "output_type": "stream",
     "text": [
      "17.992380894860002\n",
      "18.020163095\n"
     ]
    }
   ],
   "source": [
    "print(mean)\n",
    "print(median)"
   ]
  },
  {
   "cell_type": "markdown",
   "id": "d722b631",
   "metadata": {},
   "source": [
    "#### Answer the following questions:\n",
    "\n",
    "Is it Discrete or Continuous?\n",
    "\n",
    "Does it have a skew? If so, which direction (+/-)\n",
    "\n",
    "What type of kurtosis does it display? (Mesokurtic, Leptokurtic, Platykurtic)"
   ]
  },
  {
   "cell_type": "markdown",
   "id": "0fc6bfc3",
   "metadata": {},
   "source": [
    "##### Is it discrete or continuous?\n",
    "\n",
    "Vitamin D levels is continuous.  There is no specific unit/level of vitamin D that is cut off.\n",
    "\n",
    "##### Does it have a skew? If so, which direction (+/-)\n",
    "\n",
    "The mean is slightly less than the median, so there is a very slight negative skew.\n",
    "\n",
    "#####  What type of kurtosis does it display? (Mesokurtic, Leptokurtic, Platykurtic)"
   ]
  },
  {
   "cell_type": "code",
   "execution_count": 30,
   "id": "fe13c224",
   "metadata": {
    "scrolled": true
   },
   "outputs": [
    {
     "name": "stdout",
     "output_type": "stream",
     "text": [
      "3.013147515833447\n"
     ]
    }
   ],
   "source": [
    "from scipy import stats\n",
    "kurt = stats.kurtosis(df['VitD_levels'], fisher = False)\n",
    "print(kurt)"
   ]
  },
  {
   "cell_type": "markdown",
   "id": "7317b1a8",
   "metadata": {},
   "source": [
    "It displays **Mesokurtic** kurtosis, we can tell because the kurtosis value is very nearly 3.  It is very slightly Lepokurtic"
   ]
  },
  {
   "cell_type": "markdown",
   "id": "69282447",
   "metadata": {},
   "source": [
    "### Doc_visits\n",
    "\n",
    "Plot a histogram with a kde (kernel density estimate)\n",
    "\n",
    "Add a line for the mean (red)\n",
    "\n",
    "Add a line for the median (green)\n",
    "\n",
    "Add a line for for +1 std from the mean (black)\n",
    "\n",
    "Add a line for the - 1 std from the mean (black)\n",
    "\n",
    "Highlight the range between +1 and =1 std (yellow)"
   ]
  },
  {
   "cell_type": "markdown",
   "id": "ccf86c0d",
   "metadata": {},
   "source": [
    "#### Graphing"
   ]
  },
  {
   "cell_type": "code",
   "execution_count": 32,
   "id": "a6cdd800",
   "metadata": {
    "scrolled": true
   },
   "outputs": [
    {
     "data": {
      "text/plain": [
       "count    1000.000000\n",
       "mean        4.992000\n",
       "std         1.048349\n",
       "min         2.000000\n",
       "25%         4.000000\n",
       "50%         5.000000\n",
       "75%         6.000000\n",
       "max         9.000000\n",
       "Name: Doc_visits, dtype: float64"
      ]
     },
     "execution_count": 32,
     "metadata": {},
     "output_type": "execute_result"
    }
   ],
   "source": [
    "mean_doc = df['Doc_visits'].mean()\n",
    "median_doc = df['Doc_visits'].median()\n",
    "std_doc = df['Doc_visits'].std()\n",
    "plus_one_std_doc = mean_doc + std_doc\n",
    "minus_one_std_doc = mean_doc - std_doc\n",
    "df['Doc_visits'].describe()"
   ]
  },
  {
   "cell_type": "code",
   "execution_count": 35,
   "id": "34fa4a87",
   "metadata": {
    "scrolled": true
   },
   "outputs": [
    {
     "data": {
      "text/plain": [
       "<matplotlib.patches.Polygon at 0x25785082ca0>"
      ]
     },
     "execution_count": 35,
     "metadata": {},
     "output_type": "execute_result"
    },
    {
     "data": {
      "image/png": "[encoded data removed]",
      "text/plain": [
       "<Figure size 600x300 with 1 Axes>"
      ]
     },
     "metadata": {},
     "output_type": "display_data"
    }
   ],
   "source": [
    "fig,ax = plt.subplots(figsize=(6,3))\n",
    "sns.histplot(df['Doc_visits'], \n",
    "             ax = ax, \n",
    "             stat='probability',\n",
    "             discrete = True)\n",
    "# Add a line for the mean (red)\n",
    "ax.axvline(mean_doc, color = 'red');\n",
    "# Add a line for the median (green)\n",
    "ax.axvline(median_doc,color = 'green');\n",
    "# Add a line for for +1 std from the mean (black)\n",
    "ax.axvline(plus_one_std_doc, color = 'black');\n",
    "# Add a line for the - 1 std from the mean (black)\n",
    "ax.axvline(minus_one_std_doc, color = 'black');\n",
    "# Highlight the range between +1 and =1 std (yellow)\n",
    "ax.axvspan(plus_one_std_doc, minus_one_std_doc, color = 'yellow', zorder = 0)"
   ]
  },
  {
   "cell_type": "code",
   "execution_count": 36,
   "id": "d6b2dc80",
   "metadata": {},
   "outputs": [
    {
     "name": "stdout",
     "output_type": "stream",
     "text": [
      "4.992\n",
      "5.0\n"
     ]
    }
   ],
   "source": [
    "print(mean_doc)\n",
    "print(median_doc)"
   ]
  },
  {
   "cell_type": "markdown",
   "id": "f7807f31",
   "metadata": {},
   "source": [
    "#### Answer the following questions:\n",
    "\n",
    "Is it Discrete or Continuous?\n",
    "\n",
    "Does it have a skew? If so, which direction (+/-)\n",
    "\n",
    "What type of kurtosis does it display? (Mesokurtic, Leptokurtic, Platykurtic)"
   ]
  },
  {
   "cell_type": "markdown",
   "id": "8fd0f459",
   "metadata": {},
   "source": [
    "##### Is it Discrete or Continuous?\n",
    "\n",
    "This is discrete, there are distinct units of value possible for dr visits.  For example, nobody can attend 3/4 of a dr visit.\n",
    "\n",
    "##### Does it have a skew? If so, which direction (+/-)\n",
    "\n",
    "The mean is slightly less than the median, so there is a very slight negative skew\n",
    "\n",
    "#####  What type of kurtosis does it display? (Mesokurtic, Leptokurtic, Platykurtic)"
   ]
  },
  {
   "cell_type": "code",
   "execution_count": 38,
   "id": "34d21ffc",
   "metadata": {
    "scrolled": false
   },
   "outputs": [
    {
     "name": "stdout",
     "output_type": "stream",
     "text": [
      "2.9919958083381206\n"
     ]
    }
   ],
   "source": [
    "from scipy import stats\n",
    "kurt = stats.kurtosis(df['Doc_visits'], fisher = False)\n",
    "print(kurt)"
   ]
  },
  {
   "cell_type": "markdown",
   "id": "f38a4fb0",
   "metadata": {},
   "source": [
    "It displays **Mesokurtic** kurtosis, with very slight Platykurtic kurtosis, we can tell because the kurtosis value is less than 3, but extremely close to 3."
   ]
  },
  {
   "cell_type": "markdown",
   "id": "7bbdeb5a",
   "metadata": {},
   "source": [
    "### TotalCharge\n",
    "Plot a histogram with a kde (kernel density estimate)\n",
    "\n",
    "Add a line for the mean (red)\n",
    "\n",
    "Add a line for the median (green)\n",
    "\n",
    "Add a line for for +1 std from the mean (black)\n",
    "\n",
    "Add a line for the - 1 std from the mean (black)\n",
    "\n",
    "Highlight the range between +1 and =1 std (yellow)"
   ]
  },
  {
   "cell_type": "markdown",
   "id": "349a9eb0",
   "metadata": {},
   "source": [
    "#### Graphing"
   ]
  },
  {
   "cell_type": "code",
   "execution_count": 43,
   "id": "c5bf2c07",
   "metadata": {
    "scrolled": true
   },
   "outputs": [
    {
     "data": {
      "text/plain": [
       "count    1000.000000\n",
       "mean     3240.971613\n",
       "std       600.413722\n",
       "min      2022.650007\n",
       "25%      2822.108670\n",
       "50%      3164.679245\n",
       "75%      3628.550654\n",
       "max      5572.846022\n",
       "Name: TotalCharge, dtype: float64"
      ]
     },
     "execution_count": 43,
     "metadata": {},
     "output_type": "execute_result"
    }
   ],
   "source": [
    "mean_charge = df['TotalCharge'].mean()\n",
    "median_charge = df['TotalCharge'].median()\n",
    "std_charge = df['TotalCharge'].std()\n",
    "plus_one_std_charge = mean_charge + std_charge\n",
    "minus_one_std_charge = mean_charge - std_charge\n",
    "df['TotalCharge'].describe()"
   ]
  },
  {
   "cell_type": "code",
   "execution_count": 44,
   "id": "83dd3cf7",
   "metadata": {
    "scrolled": true
   },
   "outputs": [
    {
     "data": {
      "text/plain": [
       "<matplotlib.patches.Polygon at 0x25784bafd00>"
      ]
     },
     "execution_count": 44,
     "metadata": {},
     "output_type": "execute_result"
    },
    {
     "data": {
      "image/png": "[encoded data removed]",
      "text/plain": [
       "<Figure size 600x300 with 1 Axes>"
      ]
     },
     "metadata": {},
     "output_type": "display_data"
    }
   ],
   "source": [
    "fig,ax = plt.subplots(figsize=(6,3))\n",
    "sns.histplot(df['TotalCharge'], \n",
    "             ax = ax, \n",
    "             stat='probability')\n",
    "# Add a line for the mean (red)\n",
    "ax.axvline(mean_charge, color = 'red');\n",
    "# Add a line for the median (green)\n",
    "ax.axvline(median_charge,color = 'green');\n",
    "# Add a line for for +1 std from the mean (black)\n",
    "ax.axvline(plus_one_std_charge, color = 'black');\n",
    "# Add a line for the - 1 std from the mean (black)\n",
    "ax.axvline(minus_one_std_charge, color = 'black');\n",
    "# Highlight the range between +1 and =1 std (yellow)\n",
    "ax.axvspan(plus_one_std_charge, minus_one_std_charge, color = 'yellow', zorder = 0)"
   ]
  },
  {
   "cell_type": "code",
   "execution_count": 45,
   "id": "36496ee6",
   "metadata": {
    "scrolled": true
   },
   "outputs": [
    {
     "name": "stdout",
     "output_type": "stream",
     "text": [
      "3240.9716133389998\n",
      "3164.6792455\n"
     ]
    }
   ],
   "source": [
    "print(mean_charge)\n",
    "print(median_charge)"
   ]
  },
  {
   "cell_type": "markdown",
   "id": "7804b29e",
   "metadata": {},
   "source": [
    "#### Answer the following questions:\n",
    "\n",
    "Is it Discrete or Continuous?\n",
    "\n",
    "Does it have a skew? If so, which direction (+/-)\n",
    "\n",
    "What type of kurtosis does it display? (Mesokurtic, Leptokurtic, Platykurtic)"
   ]
  },
  {
   "cell_type": "markdown",
   "id": "f190fad2",
   "metadata": {},
   "source": [
    "##### Is it Discrete or Continuous?\n",
    "\n",
    "Charge is continuous. There is no specific unit/level of charge that is cut off.\n",
    "\n",
    "##### Does it have a skew? If so, which direction (+/-)\n",
    "\n",
    "The mean is slightly more than the median, so there is a very slight positive skew\n",
    "\n",
    "#####  What type of kurtosis does it display? (Mesokurtic, Leptokurtic, Platykurtic)"
   ]
  },
  {
   "cell_type": "code",
   "execution_count": 47,
   "id": "4ad42ff4",
   "metadata": {},
   "outputs": [
    {
     "name": "stdout",
     "output_type": "stream",
     "text": [
      "3.2650077463439384\n"
     ]
    }
   ],
   "source": [
    "from scipy import stats\n",
    "kurt = stats.kurtosis(df['TotalCharge'], fisher = False)\n",
    "print(kurt)"
   ]
  },
  {
   "cell_type": "markdown",
   "id": "c997a358",
   "metadata": {},
   "source": [
    "It is Lepokurtic, definitely above 3.  Not massively so, but .265 is enough of a difference that it is not mesokurtic."
   ]
  }
 ],
 "metadata": {
  "kernelspec": {
   "display_name": "Python (dojo-env)",
   "language": "python",
   "name": "dojo-env"
  },
  "language_info": {
   "codemirror_mode": {
    "name": "ipython",
    "version": 3
   },
   "file_extension": ".py",
   "mimetype": "text/x-python",
   "name": "python",
   "nbconvert_exporter": "python",
   "pygments_lexer": "ipython3",
   "version": "3.8.13"
  },
  "toc": {
   "base_numbering": 1,
   "nav_menu": {},
   "number_sections": true,
   "sideBar": true,
   "skip_h1_title": false,
   "title_cell": "Table of Contents",
   "title_sidebar": "Contents",
   "toc_cell": false,
   "toc_position": {},
   "toc_section_display": true,
   "toc_window_display": true
  }
 },
 "nbformat": 4,
 "nbformat_minor": 5
}
